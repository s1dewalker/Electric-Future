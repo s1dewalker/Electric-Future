{
 "cells": [
  {
   "cell_type": "markdown",
   "id": "fc098e92",
   "metadata": {},
   "source": [
    "__Importing libraries__"
   ]
  },
  {
   "cell_type": "code",
   "execution_count": 1,
   "id": "a93b777f",
   "metadata": {},
   "outputs": [],
   "source": [
    "import pandas as pd\n",
    "from sklearn.model_selection import train_test_split\n",
    "from sklearn.linear_model import LinearRegression\n",
    "import numpy as np\n",
    "from sklearn import metrics\n",
    "from sklearn.preprocessing import PolynomialFeatures"
   ]
  },
  {
   "cell_type": "markdown",
   "id": "7f0ec61e",
   "metadata": {},
   "source": [
    "__Getting data of CO2 Emissions and Sea level rise__"
   ]
  },
  {
   "cell_type": "code",
   "execution_count": 2,
   "id": "da45b459",
   "metadata": {},
   "outputs": [],
   "source": [
    "co2df = pd.read_excel(r'co2.xlsx')"
   ]
  },
  {
   "cell_type": "code",
   "execution_count": 3,
   "id": "8eb328a0",
   "metadata": {},
   "outputs": [],
   "source": [
    "#co2df.head()"
   ]
  },
  {
   "cell_type": "code",
   "execution_count": 4,
   "id": "62f4f251",
   "metadata": {},
   "outputs": [],
   "source": [
    "df0 = co2df.loc[co2df['Entity'] == 'World'].groupby(['Year'])['Annual CO2 emissions'].sum().reset_index(name ='CO2 emissions ' +'('+'tonnes'+')')"
   ]
  },
  {
   "cell_type": "code",
   "execution_count": 5,
   "id": "95c5af36",
   "metadata": {},
   "outputs": [],
   "source": [
    "df1 = df0.loc[df0['Year']>=1880]\n",
    "#df1"
   ]
  },
  {
   "cell_type": "code",
   "execution_count": 6,
   "id": "4eef90fd",
   "metadata": {},
   "outputs": [],
   "source": [
    "df1.to_csv(\"CO2 Emissions.csv\", index = False)"
   ]
  },
  {
   "cell_type": "code",
   "execution_count": 7,
   "id": "82a490bb",
   "metadata": {},
   "outputs": [],
   "source": [
    "sealeveldf = pd.read_excel(r'sea-level.xlsx')"
   ]
  },
  {
   "cell_type": "code",
   "execution_count": 8,
   "id": "1e87ba03",
   "metadata": {},
   "outputs": [],
   "source": [
    "#sealeveldf.head()"
   ]
  },
  {
   "cell_type": "code",
   "execution_count": 9,
   "id": "8e376590",
   "metadata": {},
   "outputs": [],
   "source": [
    "co2emmisiondf = pd.read_csv(\"CO2 Emissions.csv\")"
   ]
  },
  {
   "cell_type": "code",
   "execution_count": 10,
   "id": "8acb77dc",
   "metadata": {},
   "outputs": [],
   "source": [
    "#co2emmisiondf.head()"
   ]
  },
  {
   "cell_type": "code",
   "execution_count": 11,
   "id": "a8b8f6f2",
   "metadata": {},
   "outputs": [],
   "source": [
    "result = co2emmisiondf.join(sealeveldf.set_index('Year'), on='Year')"
   ]
  },
  {
   "cell_type": "code",
   "execution_count": 12,
   "id": "d4ef19e9",
   "metadata": {},
   "outputs": [],
   "source": [
    "#result"
   ]
  },
  {
   "cell_type": "code",
   "execution_count": 13,
   "id": "80dd6390",
   "metadata": {},
   "outputs": [],
   "source": [
    "result = result.set_index('Year')"
   ]
  },
  {
   "cell_type": "code",
   "execution_count": 14,
   "id": "f4ab2958",
   "metadata": {},
   "outputs": [
    {
     "data": {
      "text/html": [
       "<div>\n",
       "<style scoped>\n",
       "    .dataframe tbody tr th:only-of-type {\n",
       "        vertical-align: middle;\n",
       "    }\n",
       "\n",
       "    .dataframe tbody tr th {\n",
       "        vertical-align: top;\n",
       "    }\n",
       "\n",
       "    .dataframe thead th {\n",
       "        text-align: right;\n",
       "    }\n",
       "</style>\n",
       "<table border=\"1\" class=\"dataframe\">\n",
       "  <thead>\n",
       "    <tr style=\"text-align: right;\">\n",
       "      <th></th>\n",
       "      <th>CO2 emissions (tonnes)</th>\n",
       "      <th>CSIRO - Adjusted sea level (inches)</th>\n",
       "    </tr>\n",
       "    <tr>\n",
       "      <th>Year</th>\n",
       "      <th></th>\n",
       "      <th></th>\n",
       "    </tr>\n",
       "  </thead>\n",
       "  <tbody>\n",
       "    <tr>\n",
       "      <th>1880</th>\n",
       "      <td>8.537072e+08</td>\n",
       "      <td>0.000000</td>\n",
       "    </tr>\n",
       "    <tr>\n",
       "      <th>1881</th>\n",
       "      <td>8.824075e+08</td>\n",
       "      <td>0.220472</td>\n",
       "    </tr>\n",
       "    <tr>\n",
       "      <th>1882</th>\n",
       "      <td>9.319247e+08</td>\n",
       "      <td>-0.440945</td>\n",
       "    </tr>\n",
       "    <tr>\n",
       "      <th>1883</th>\n",
       "      <td>9.910357e+08</td>\n",
       "      <td>-0.232283</td>\n",
       "    </tr>\n",
       "    <tr>\n",
       "      <th>1884</th>\n",
       "      <td>1.002178e+09</td>\n",
       "      <td>0.590551</td>\n",
       "    </tr>\n",
       "  </tbody>\n",
       "</table>\n",
       "</div>"
      ],
      "text/plain": [
       "      CO2 emissions (tonnes)  CSIRO - Adjusted sea level (inches)\n",
       "Year                                                             \n",
       "1880            8.537072e+08                             0.000000\n",
       "1881            8.824075e+08                             0.220472\n",
       "1882            9.319247e+08                            -0.440945\n",
       "1883            9.910357e+08                            -0.232283\n",
       "1884            1.002178e+09                             0.590551"
      ]
     },
     "execution_count": 14,
     "metadata": {},
     "output_type": "execute_result"
    }
   ],
   "source": [
    "result.head()"
   ]
  },
  {
   "cell_type": "markdown",
   "id": "ca39f9a9",
   "metadata": {},
   "source": [
    "__Correlation between CO2 Emissions and sea level__"
   ]
  },
  {
   "cell_type": "code",
   "execution_count": 15,
   "id": "03886596",
   "metadata": {},
   "outputs": [],
   "source": [
    "correlation = result.corr(method = 'pearson')"
   ]
  },
  {
   "cell_type": "code",
   "execution_count": 16,
   "id": "da6025b6",
   "metadata": {},
   "outputs": [
    {
     "data": {
      "text/html": [
       "<div>\n",
       "<style scoped>\n",
       "    .dataframe tbody tr th:only-of-type {\n",
       "        vertical-align: middle;\n",
       "    }\n",
       "\n",
       "    .dataframe tbody tr th {\n",
       "        vertical-align: top;\n",
       "    }\n",
       "\n",
       "    .dataframe thead th {\n",
       "        text-align: right;\n",
       "    }\n",
       "</style>\n",
       "<table border=\"1\" class=\"dataframe\">\n",
       "  <thead>\n",
       "    <tr style=\"text-align: right;\">\n",
       "      <th></th>\n",
       "      <th>CO2 emissions (tonnes)</th>\n",
       "      <th>CSIRO - Adjusted sea level (inches)</th>\n",
       "    </tr>\n",
       "  </thead>\n",
       "  <tbody>\n",
       "    <tr>\n",
       "      <th>CO2 emissions (tonnes)</th>\n",
       "      <td>1.000000</td>\n",
       "      <td>0.970388</td>\n",
       "    </tr>\n",
       "    <tr>\n",
       "      <th>CSIRO - Adjusted sea level (inches)</th>\n",
       "      <td>0.970388</td>\n",
       "      <td>1.000000</td>\n",
       "    </tr>\n",
       "  </tbody>\n",
       "</table>\n",
       "</div>"
      ],
      "text/plain": [
       "                                     CO2 emissions (tonnes)  \\\n",
       "CO2 emissions (tonnes)                             1.000000   \n",
       "CSIRO - Adjusted sea level (inches)                0.970388   \n",
       "\n",
       "                                     CSIRO - Adjusted sea level (inches)  \n",
       "CO2 emissions (tonnes)                                          0.970388  \n",
       "CSIRO - Adjusted sea level (inches)                             1.000000  "
      ]
     },
     "execution_count": 16,
     "metadata": {},
     "output_type": "execute_result"
    }
   ],
   "source": [
    "correlation"
   ]
  },
  {
   "cell_type": "code",
   "execution_count": 17,
   "id": "eed54c58",
   "metadata": {},
   "outputs": [],
   "source": [
    "correlation = result.corr(method = 'pearson')"
   ]
  },
  {
   "cell_type": "markdown",
   "id": "782a1dc3",
   "metadata": {},
   "source": [
    "_strong positive correlation between CO2 emissions and Sea level rise_"
   ]
  },
  {
   "cell_type": "markdown",
   "id": "acf7fdb5",
   "metadata": {},
   "source": [
    "__Linear Regression__"
   ]
  },
  {
   "cell_type": "code",
   "execution_count": 18,
   "id": "2e8bf7c8",
   "metadata": {},
   "outputs": [],
   "source": [
    "#co2emmisiondf.head()"
   ]
  },
  {
   "cell_type": "code",
   "execution_count": 19,
   "id": "38495ccf",
   "metadata": {},
   "outputs": [],
   "source": [
    "X = co2emmisiondf['Year']\n",
    "Y = co2emmisiondf['CO2 emissions (tonnes)']"
   ]
  },
  {
   "cell_type": "code",
   "execution_count": 20,
   "id": "eb3c3adc",
   "metadata": {},
   "outputs": [],
   "source": [
    "Xarr=np.asarray(X)"
   ]
  },
  {
   "cell_type": "code",
   "execution_count": 21,
   "id": "bed260ad",
   "metadata": {},
   "outputs": [],
   "source": [
    "Yarr=np.asarray(Y)"
   ]
  },
  {
   "cell_type": "code",
   "execution_count": 22,
   "id": "015d4b96",
   "metadata": {},
   "outputs": [],
   "source": [
    "X_train, X_test, Y_train, Y_test = train_test_split(Xarr, Y, test_size = 0.05, random_state = 5)"
   ]
  },
  {
   "cell_type": "code",
   "execution_count": 23,
   "id": "7917f4b6",
   "metadata": {},
   "outputs": [
    {
     "data": {
      "text/plain": [
       "(134,)"
      ]
     },
     "execution_count": 23,
     "metadata": {},
     "output_type": "execute_result"
    }
   ],
   "source": [
    "X_train.shape"
   ]
  },
  {
   "cell_type": "code",
   "execution_count": 24,
   "id": "016ffe60",
   "metadata": {},
   "outputs": [],
   "source": [
    "model = LinearRegression()"
   ]
  },
  {
   "cell_type": "code",
   "execution_count": 25,
   "id": "045d6c93",
   "metadata": {},
   "outputs": [],
   "source": [
    "X_train_reshaped = X_train.reshape(-1,1)\n",
    "X_test_reshaped = X_test.reshape(-1,1)"
   ]
  },
  {
   "cell_type": "code",
   "execution_count": 26,
   "id": "0c26e188",
   "metadata": {},
   "outputs": [
    {
     "name": "stdout",
     "output_type": "stream",
     "text": [
      "(134, 1) (8, 1)\n"
     ]
    }
   ],
   "source": [
    "print(X_train_reshaped.shape, X_test_reshaped.shape)"
   ]
  },
  {
   "cell_type": "code",
   "execution_count": 27,
   "id": "6a749c32",
   "metadata": {},
   "outputs": [
    {
     "data": {
      "text/plain": [
       "LinearRegression()"
      ]
     },
     "execution_count": 27,
     "metadata": {},
     "output_type": "execute_result"
    }
   ],
   "source": [
    "model.fit(X_train_reshaped, Y_train)"
   ]
  },
  {
   "cell_type": "code",
   "execution_count": 28,
   "id": "010d0916",
   "metadata": {},
   "outputs": [],
   "source": [
    "prediction = model.predict(X_test_reshaped)"
   ]
  },
  {
   "cell_type": "code",
   "execution_count": 29,
   "id": "1cbfca43",
   "metadata": {},
   "outputs": [],
   "source": [
    "r_square_err = metrics.r2_score(Y_test, prediction)"
   ]
  },
  {
   "cell_type": "code",
   "execution_count": 30,
   "id": "2f3176ae",
   "metadata": {},
   "outputs": [
    {
     "data": {
      "text/plain": [
       "0.8683041340065996"
      ]
     },
     "execution_count": 30,
     "metadata": {},
     "output_type": "execute_result"
    }
   ],
   "source": [
    "r_square_err"
   ]
  },
  {
   "cell_type": "code",
   "execution_count": 31,
   "id": "36925071",
   "metadata": {},
   "outputs": [],
   "source": [
    "input_data = [2009]\n",
    "arr = np.asarray(input_data)"
   ]
  },
  {
   "cell_type": "code",
   "execution_count": 32,
   "id": "28bb6273",
   "metadata": {},
   "outputs": [
    {
     "data": {
      "text/plain": [
       "array([[2009]])"
      ]
     },
     "execution_count": 32,
     "metadata": {},
     "output_type": "execute_result"
    }
   ],
   "source": [
    "# need 2d array\n",
    "#call .reshape() because this array must be two-dimensional\n",
    "reshaped_arr = arr.reshape(-1,1) # everything becomes columns with 1 row\n",
    "reshaped_arr"
   ]
  },
  {
   "cell_type": "code",
   "execution_count": 33,
   "id": "f8e47693",
   "metadata": {},
   "outputs": [
    {
     "name": "stdout",
     "output_type": "stream",
     "text": [
      "[2.71294875e+10]\n"
     ]
    }
   ],
   "source": [
    "prediction = model.predict(reshaped_arr)\n",
    "print(prediction)"
   ]
  },
  {
   "cell_type": "markdown",
   "id": "0fcb5d8e",
   "metadata": {},
   "source": [
    "__Polynomial Regression__"
   ]
  },
  {
   "cell_type": "code",
   "execution_count": 34,
   "id": "589d19db",
   "metadata": {},
   "outputs": [],
   "source": [
    "x_ = PolynomialFeatures(degree=2, include_bias=False).fit_transform(X_train_reshaped)"
   ]
  },
  {
   "cell_type": "code",
   "execution_count": 35,
   "id": "6e4bcf58",
   "metadata": {},
   "outputs": [],
   "source": [
    "#x_"
   ]
  },
  {
   "cell_type": "code",
   "execution_count": 36,
   "id": "30f7988e",
   "metadata": {},
   "outputs": [],
   "source": [
    "model = LinearRegression().fit(x_, Y_train)"
   ]
  },
  {
   "cell_type": "code",
   "execution_count": 37,
   "id": "40c9a70f",
   "metadata": {},
   "outputs": [],
   "source": [
    "x_test_ = PolynomialFeatures(degree=2, include_bias=False).fit_transform(X_test_reshaped)"
   ]
  },
  {
   "cell_type": "code",
   "execution_count": 38,
   "id": "8706c557",
   "metadata": {},
   "outputs": [],
   "source": [
    "prediction = model.predict(x_test_)"
   ]
  },
  {
   "cell_type": "code",
   "execution_count": 39,
   "id": "2a97b131",
   "metadata": {},
   "outputs": [],
   "source": [
    "r_square_err = metrics.r2_score(Y_test, prediction)"
   ]
  },
  {
   "cell_type": "code",
   "execution_count": 40,
   "id": "e5a39c3a",
   "metadata": {},
   "outputs": [
    {
     "data": {
      "text/plain": [
       "0.9903606516909601"
      ]
     },
     "execution_count": 40,
     "metadata": {},
     "output_type": "execute_result"
    }
   ],
   "source": [
    "r_square_err"
   ]
  },
  {
   "cell_type": "code",
   "execution_count": 41,
   "id": "71bba8d2",
   "metadata": {},
   "outputs": [],
   "source": [
    "input_data = [2009]\n",
    "arr = np.asarray(input_data)"
   ]
  },
  {
   "cell_type": "code",
   "execution_count": 42,
   "id": "85e94d4f",
   "metadata": {},
   "outputs": [
    {
     "data": {
      "text/plain": [
       "array([[2009]])"
      ]
     },
     "execution_count": 42,
     "metadata": {},
     "output_type": "execute_result"
    }
   ],
   "source": [
    "# need 2d array\n",
    "#call .reshape() because this array must be two-dimensional\n",
    "reshaped_arr = arr.reshape(-1,1)\n",
    "reshaped_arr"
   ]
  },
  {
   "cell_type": "code",
   "execution_count": 43,
   "id": "02c2c000",
   "metadata": {},
   "outputs": [
    {
     "data": {
      "text/plain": [
       "(1, 1)"
      ]
     },
     "execution_count": 43,
     "metadata": {},
     "output_type": "execute_result"
    }
   ],
   "source": [
    "reshaped_arr.shape"
   ]
  },
  {
   "cell_type": "code",
   "execution_count": 44,
   "id": "d1eabdf6",
   "metadata": {},
   "outputs": [],
   "source": [
    "y_test1_ = PolynomialFeatures(degree=2, include_bias=False).fit_transform(reshaped_arr)"
   ]
  },
  {
   "cell_type": "code",
   "execution_count": 45,
   "id": "d6cf65a6",
   "metadata": {},
   "outputs": [
    {
     "name": "stdout",
     "output_type": "stream",
     "text": [
      "[3.14901095e+10]\n"
     ]
    }
   ],
   "source": [
    "prediction = model.predict(y_test1_)\n",
    "print(prediction)"
   ]
  },
  {
   "cell_type": "markdown",
   "id": "09e1a7af",
   "metadata": {},
   "source": [
    "_Original value of CO2 Emissions in 2009 = 31607042410 or 3.1607e+10_"
   ]
  },
  {
   "cell_type": "markdown",
   "id": "3823c204",
   "metadata": {},
   "source": [
    "_*very satisfying  result*_"
   ]
  },
  {
   "cell_type": "markdown",
   "id": "40fdcfc2",
   "metadata": {},
   "source": [
    "_Polynomial regression is a better fit_"
   ]
  },
  {
   "cell_type": "markdown",
   "id": "bb9dc1b7",
   "metadata": {},
   "source": [
    "__Now predicting for other years__"
   ]
  },
  {
   "cell_type": "markdown",
   "id": "2ebeee74",
   "metadata": {},
   "source": [
    "2025"
   ]
  },
  {
   "cell_type": "code",
   "execution_count": 46,
   "id": "66169c21",
   "metadata": {},
   "outputs": [],
   "source": [
    "input_data = [2025]\n",
    "arr = np.asarray(input_data)"
   ]
  },
  {
   "cell_type": "code",
   "execution_count": 47,
   "id": "f980e798",
   "metadata": {},
   "outputs": [
    {
     "data": {
      "text/plain": [
       "array([[2025]])"
      ]
     },
     "execution_count": 47,
     "metadata": {},
     "output_type": "execute_result"
    }
   ],
   "source": [
    "# need 2d array\n",
    "#call .reshape() because this array must be two-dimensional\n",
    "reshaped_arr = arr.reshape(-1,1)\n",
    "reshaped_arr"
   ]
  },
  {
   "cell_type": "code",
   "execution_count": 48,
   "id": "fa6abb36",
   "metadata": {},
   "outputs": [],
   "source": [
    "y_test1_ = PolynomialFeatures(degree=2, include_bias=False).fit_transform(reshaped_arr)"
   ]
  },
  {
   "cell_type": "code",
   "execution_count": 49,
   "id": "f4293c4d",
   "metadata": {},
   "outputs": [
    {
     "name": "stdout",
     "output_type": "stream",
     "text": [
      "[4.09963832e+10]\n"
     ]
    }
   ],
   "source": [
    "prediction = model.predict(y_test1_)\n",
    "print(prediction)"
   ]
  },
  {
   "cell_type": "markdown",
   "id": "551c9e94",
   "metadata": {},
   "source": [
    "__Creating a function__"
   ]
  },
  {
   "cell_type": "code",
   "execution_count": 50,
   "id": "d7a9a8e9",
   "metadata": {},
   "outputs": [],
   "source": [
    "def co2emission_predictor(input_data):\n",
    "    arr = np.asarray(input_data)\n",
    "    # need 2d array\n",
    "    #call .reshape() because this array must be two-dimensional\n",
    "    reshaped_arr = arr.reshape(-1,1)\n",
    "    reshaped_arr\n",
    "    y_test1_ = PolynomialFeatures(degree=2, include_bias=False).fit_transform(reshaped_arr)\n",
    "    prediction = model.predict(y_test1_)\n",
    "    return prediction"
   ]
  },
  {
   "cell_type": "code",
   "execution_count": 51,
   "id": "87f863f2",
   "metadata": {},
   "outputs": [
    {
     "data": {
      "text/plain": [
       "array([4.42342117e+10])"
      ]
     },
     "execution_count": 51,
     "metadata": {},
     "output_type": "execute_result"
    }
   ],
   "source": [
    "co2emission_predictor([2030])"
   ]
  },
  {
   "cell_type": "code",
   "execution_count": 52,
   "id": "8e58712d",
   "metadata": {},
   "outputs": [
    {
     "data": {
      "text/plain": [
       "array([4.75992392e+10])"
      ]
     },
     "execution_count": 52,
     "metadata": {},
     "output_type": "execute_result"
    }
   ],
   "source": [
    "co2emission_predictor([2035])"
   ]
  },
  {
   "cell_type": "code",
   "execution_count": 53,
   "id": "aa249176",
   "metadata": {},
   "outputs": [
    {
     "data": {
      "text/plain": [
       "array([5.10914657e+10])"
      ]
     },
     "execution_count": 53,
     "metadata": {},
     "output_type": "execute_result"
    }
   ],
   "source": [
    "co2emission_predictor([2040])"
   ]
  },
  {
   "cell_type": "code",
   "execution_count": 54,
   "id": "967e37a5",
   "metadata": {},
   "outputs": [
    {
     "data": {
      "text/plain": [
       "array([5.47108913e+10])"
      ]
     },
     "execution_count": 54,
     "metadata": {},
     "output_type": "execute_result"
    }
   ],
   "source": [
    "co2emission_predictor([2045])"
   ]
  },
  {
   "cell_type": "code",
   "execution_count": 55,
   "id": "98be41f4",
   "metadata": {},
   "outputs": [
    {
     "data": {
      "text/plain": [
       "array([5.84575159e+10])"
      ]
     },
     "execution_count": 55,
     "metadata": {},
     "output_type": "execute_result"
    }
   ],
   "source": [
    "co2emission_predictor([2050])"
   ]
  },
  {
   "cell_type": "code",
   "execution_count": 56,
   "id": "34001ddc",
   "metadata": {},
   "outputs": [],
   "source": [
    "df_estimates1=[]\n",
    "df_estimates1 = pd.DataFrame({'Year': [2025, 2030, 2035, 2040, 2045, 2050],\n",
    "                   'co2 emissions (tonnes)': [co2emission_predictor([2025])[0],co2emission_predictor([2030])[0]\n",
    "                                              , co2emission_predictor([2035])[0], co2emission_predictor([2040])[0]\n",
    "                                              , co2emission_predictor([2045])[0], co2emission_predictor([2050])[0]                                       \n",
    "                                             ]\n",
    "                             })"
   ]
  },
  {
   "cell_type": "code",
   "execution_count": 57,
   "id": "ded24acf",
   "metadata": {},
   "outputs": [
    {
     "data": {
      "text/html": [
       "<div>\n",
       "<style scoped>\n",
       "    .dataframe tbody tr th:only-of-type {\n",
       "        vertical-align: middle;\n",
       "    }\n",
       "\n",
       "    .dataframe tbody tr th {\n",
       "        vertical-align: top;\n",
       "    }\n",
       "\n",
       "    .dataframe thead th {\n",
       "        text-align: right;\n",
       "    }\n",
       "</style>\n",
       "<table border=\"1\" class=\"dataframe\">\n",
       "  <thead>\n",
       "    <tr style=\"text-align: right;\">\n",
       "      <th></th>\n",
       "      <th>Year</th>\n",
       "      <th>co2 emissions (tonnes)</th>\n",
       "    </tr>\n",
       "  </thead>\n",
       "  <tbody>\n",
       "    <tr>\n",
       "      <th>0</th>\n",
       "      <td>2025</td>\n",
       "      <td>4.099638e+10</td>\n",
       "    </tr>\n",
       "    <tr>\n",
       "      <th>1</th>\n",
       "      <td>2030</td>\n",
       "      <td>4.423421e+10</td>\n",
       "    </tr>\n",
       "    <tr>\n",
       "      <th>2</th>\n",
       "      <td>2035</td>\n",
       "      <td>4.759924e+10</td>\n",
       "    </tr>\n",
       "    <tr>\n",
       "      <th>3</th>\n",
       "      <td>2040</td>\n",
       "      <td>5.109147e+10</td>\n",
       "    </tr>\n",
       "    <tr>\n",
       "      <th>4</th>\n",
       "      <td>2045</td>\n",
       "      <td>5.471089e+10</td>\n",
       "    </tr>\n",
       "    <tr>\n",
       "      <th>5</th>\n",
       "      <td>2050</td>\n",
       "      <td>5.845752e+10</td>\n",
       "    </tr>\n",
       "  </tbody>\n",
       "</table>\n",
       "</div>"
      ],
      "text/plain": [
       "   Year  co2 emissions (tonnes)\n",
       "0  2025            4.099638e+10\n",
       "1  2030            4.423421e+10\n",
       "2  2035            4.759924e+10\n",
       "3  2040            5.109147e+10\n",
       "4  2045            5.471089e+10\n",
       "5  2050            5.845752e+10"
      ]
     },
     "execution_count": 57,
     "metadata": {},
     "output_type": "execute_result"
    }
   ],
   "source": [
    "df_estimates1"
   ]
  },
  {
   "cell_type": "markdown",
   "id": "ff7d8908",
   "metadata": {},
   "source": [
    "Now applying regression to result dataframe (CO2 Emissions and sea level)"
   ]
  },
  {
   "cell_type": "code",
   "execution_count": 58,
   "id": "3e3d8373",
   "metadata": {},
   "outputs": [],
   "source": [
    "#result.head()"
   ]
  },
  {
   "cell_type": "code",
   "execution_count": 59,
   "id": "02a43abc",
   "metadata": {},
   "outputs": [],
   "source": [
    "X = result['CO2 emissions (tonnes)']\n",
    "Y = result['CSIRO - Adjusted sea level (inches)']"
   ]
  },
  {
   "cell_type": "code",
   "execution_count": 60,
   "id": "232dde61",
   "metadata": {},
   "outputs": [],
   "source": [
    "Xarr=np.asarray(X)"
   ]
  },
  {
   "cell_type": "code",
   "execution_count": 61,
   "id": "95d1f59d",
   "metadata": {},
   "outputs": [],
   "source": [
    "Yarr=np.asarray(Y)"
   ]
  },
  {
   "cell_type": "code",
   "execution_count": 62,
   "id": "f85f454a",
   "metadata": {},
   "outputs": [],
   "source": [
    "X_train, X_test, Y_train, Y_test = train_test_split(Xarr, Y, test_size = 0.05, random_state = 2)"
   ]
  },
  {
   "cell_type": "code",
   "execution_count": 63,
   "id": "af9f09ff",
   "metadata": {},
   "outputs": [
    {
     "data": {
      "text/plain": [
       "(134,)"
      ]
     },
     "execution_count": 63,
     "metadata": {},
     "output_type": "execute_result"
    }
   ],
   "source": [
    "X_train.shape"
   ]
  },
  {
   "cell_type": "code",
   "execution_count": 64,
   "id": "7929c39b",
   "metadata": {},
   "outputs": [],
   "source": [
    "model = LinearRegression()"
   ]
  },
  {
   "cell_type": "code",
   "execution_count": 65,
   "id": "3ab6f10e",
   "metadata": {},
   "outputs": [],
   "source": [
    "X_train_reshaped = X_train.reshape(-1,1)\n",
    "X_test_reshaped = X_test.reshape(-1,1)"
   ]
  },
  {
   "cell_type": "code",
   "execution_count": 66,
   "id": "2c688502",
   "metadata": {},
   "outputs": [
    {
     "name": "stdout",
     "output_type": "stream",
     "text": [
      "(134, 1) (8, 1)\n"
     ]
    }
   ],
   "source": [
    "print(X_train_reshaped.shape, X_test_reshaped.shape)"
   ]
  },
  {
   "cell_type": "code",
   "execution_count": 67,
   "id": "3c006216",
   "metadata": {},
   "outputs": [
    {
     "data": {
      "text/plain": [
       "LinearRegression()"
      ]
     },
     "execution_count": 67,
     "metadata": {},
     "output_type": "execute_result"
    }
   ],
   "source": [
    "model.fit(X_train_reshaped, Y_train)"
   ]
  },
  {
   "cell_type": "code",
   "execution_count": 68,
   "id": "1255d181",
   "metadata": {},
   "outputs": [],
   "source": [
    "prediction = model.predict(X_test_reshaped)"
   ]
  },
  {
   "cell_type": "code",
   "execution_count": 69,
   "id": "e43d8315",
   "metadata": {},
   "outputs": [
    {
     "data": {
      "text/plain": [
       "0.9557969083494541"
      ]
     },
     "execution_count": 69,
     "metadata": {},
     "output_type": "execute_result"
    }
   ],
   "source": [
    "r_square_err = metrics.r2_score(Y_test, prediction)\n",
    "r_square_err"
   ]
  },
  {
   "cell_type": "markdown",
   "id": "13ca1269",
   "metadata": {},
   "source": [
    "_Satisfying result_"
   ]
  },
  {
   "cell_type": "markdown",
   "id": "28974f1c",
   "metadata": {},
   "source": [
    "_C02 Emission in 2009 = 31607042410 tonnes_"
   ]
  },
  {
   "cell_type": "code",
   "execution_count": 70,
   "id": "ea90148d",
   "metadata": {},
   "outputs": [],
   "source": [
    "input_data = [31607042410]\n",
    "arr = np.asarray(input_data)"
   ]
  },
  {
   "cell_type": "code",
   "execution_count": 71,
   "id": "677887ad",
   "metadata": {},
   "outputs": [
    {
     "data": {
      "text/plain": [
       "array([[31607042410]], dtype=int64)"
      ]
     },
     "execution_count": 71,
     "metadata": {},
     "output_type": "execute_result"
    }
   ],
   "source": [
    "# need 2d array\n",
    "#call .reshape() because this array must be two-dimensional\n",
    "reshaped_arr = arr.reshape(-1,1)\n",
    "reshaped_arr"
   ]
  },
  {
   "cell_type": "code",
   "execution_count": 72,
   "id": "24b4e126",
   "metadata": {},
   "outputs": [
    {
     "data": {
      "text/plain": [
       "(1, 1)"
      ]
     },
     "execution_count": 72,
     "metadata": {},
     "output_type": "execute_result"
    }
   ],
   "source": [
    "reshaped_arr.shape"
   ]
  },
  {
   "cell_type": "code",
   "execution_count": 73,
   "id": "2fcd1964",
   "metadata": {},
   "outputs": [
    {
     "name": "stdout",
     "output_type": "stream",
     "text": [
      "[8.57032238]\n"
     ]
    }
   ],
   "source": [
    "prediction = model.predict(reshaped_arr)\n",
    "print(prediction)"
   ]
  },
  {
   "cell_type": "markdown",
   "id": "f7c2aa2a",
   "metadata": {},
   "source": [
    "__Original sea level increase in 2009 was = 8.531496054 inches__"
   ]
  },
  {
   "cell_type": "markdown",
   "id": "635c4198",
   "metadata": {},
   "source": [
    "_very satisfying result_"
   ]
  },
  {
   "cell_type": "code",
   "execution_count": 74,
   "id": "2832fce4",
   "metadata": {},
   "outputs": [
    {
     "data": {
      "text/plain": [
       "0    4.099638e+10\n",
       "1    4.423421e+10\n",
       "2    4.759924e+10\n",
       "3    5.109147e+10\n",
       "4    5.471089e+10\n",
       "5    5.845752e+10\n",
       "Name: co2 emissions (tonnes), dtype: float64"
      ]
     },
     "execution_count": 74,
     "metadata": {},
     "output_type": "execute_result"
    }
   ],
   "source": [
    "df_estimates1['co2 emissions (tonnes)']"
   ]
  },
  {
   "cell_type": "code",
   "execution_count": 75,
   "id": "76dc0152",
   "metadata": {},
   "outputs": [],
   "source": [
    "def sea_level_predictor(input_data):\n",
    "    arr = np.asarray(input_data)\n",
    "    # need 2d array\n",
    "    #call .reshape() because this array must be two-dimensional\n",
    "    reshaped_arr = arr.reshape(-1,1)\n",
    "    prediction = model.predict(reshaped_arr)\n",
    "    return prediction"
   ]
  },
  {
   "cell_type": "code",
   "execution_count": 76,
   "id": "7fe92adc",
   "metadata": {},
   "outputs": [],
   "source": [
    "co2em = []\n",
    "for emissions in df_estimates1['co2 emissions (tonnes)']:\n",
    "    co2em.append(emissions)\n",
    "slr = []\n",
    "sea_level_predictor(co2em)\n",
    "slr = sea_level_predictor(co2em).tolist()\n",
    "df_estimates2=[]\n",
    "df_estimates2 = pd.DataFrame({'Year': [2025, 2030, 2035, 2040, 2045, 2050],\n",
    "                   'sea level (inches)': slr\n",
    "                             })"
   ]
  },
  {
   "cell_type": "code",
   "execution_count": 77,
   "id": "fd7b2e53",
   "metadata": {},
   "outputs": [
    {
     "data": {
      "text/html": [
       "<div>\n",
       "<style scoped>\n",
       "    .dataframe tbody tr th:only-of-type {\n",
       "        vertical-align: middle;\n",
       "    }\n",
       "\n",
       "    .dataframe tbody tr th {\n",
       "        vertical-align: top;\n",
       "    }\n",
       "\n",
       "    .dataframe thead th {\n",
       "        text-align: right;\n",
       "    }\n",
       "</style>\n",
       "<table border=\"1\" class=\"dataframe\">\n",
       "  <thead>\n",
       "    <tr style=\"text-align: right;\">\n",
       "      <th></th>\n",
       "      <th>Year</th>\n",
       "      <th>sea level (inches)</th>\n",
       "    </tr>\n",
       "  </thead>\n",
       "  <tbody>\n",
       "    <tr>\n",
       "      <th>0</th>\n",
       "      <td>2025</td>\n",
       "      <td>10.777018</td>\n",
       "    </tr>\n",
       "    <tr>\n",
       "      <th>1</th>\n",
       "      <td>2030</td>\n",
       "      <td>11.537977</td>\n",
       "    </tr>\n",
       "    <tr>\n",
       "      <th>2</th>\n",
       "      <td>2035</td>\n",
       "      <td>12.328830</td>\n",
       "    </tr>\n",
       "    <tr>\n",
       "      <th>3</th>\n",
       "      <td>2040</td>\n",
       "      <td>13.149578</td>\n",
       "    </tr>\n",
       "    <tr>\n",
       "      <th>4</th>\n",
       "      <td>2045</td>\n",
       "      <td>14.000220</td>\n",
       "    </tr>\n",
       "    <tr>\n",
       "      <th>5</th>\n",
       "      <td>2050</td>\n",
       "      <td>14.880757</td>\n",
       "    </tr>\n",
       "  </tbody>\n",
       "</table>\n",
       "</div>"
      ],
      "text/plain": [
       "   Year  sea level (inches)\n",
       "0  2025           10.777018\n",
       "1  2030           11.537977\n",
       "2  2035           12.328830\n",
       "3  2040           13.149578\n",
       "4  2045           14.000220\n",
       "5  2050           14.880757"
      ]
     },
     "execution_count": 77,
     "metadata": {},
     "output_type": "execute_result"
    }
   ],
   "source": [
    "df_estimates2"
   ]
  },
  {
   "cell_type": "code",
   "execution_count": 78,
   "id": "487ab080",
   "metadata": {},
   "outputs": [],
   "source": [
    "result_estimates = df_estimates1.join(df_estimates2.set_index('Year'), on='Year')\n",
    "#result_estimates"
   ]
  },
  {
   "cell_type": "code",
   "execution_count": 79,
   "id": "7edf5f27",
   "metadata": {},
   "outputs": [],
   "source": [
    "result_estimates = result_estimates.set_index('Year')"
   ]
  },
  {
   "cell_type": "code",
   "execution_count": 80,
   "id": "b14d6350",
   "metadata": {},
   "outputs": [
    {
     "data": {
      "text/html": [
       "<div>\n",
       "<style scoped>\n",
       "    .dataframe tbody tr th:only-of-type {\n",
       "        vertical-align: middle;\n",
       "    }\n",
       "\n",
       "    .dataframe tbody tr th {\n",
       "        vertical-align: top;\n",
       "    }\n",
       "\n",
       "    .dataframe thead th {\n",
       "        text-align: right;\n",
       "    }\n",
       "</style>\n",
       "<table border=\"1\" class=\"dataframe\">\n",
       "  <thead>\n",
       "    <tr style=\"text-align: right;\">\n",
       "      <th></th>\n",
       "      <th>co2 emissions (tonnes)</th>\n",
       "      <th>sea level (inches)</th>\n",
       "    </tr>\n",
       "    <tr>\n",
       "      <th>Year</th>\n",
       "      <th></th>\n",
       "      <th></th>\n",
       "    </tr>\n",
       "  </thead>\n",
       "  <tbody>\n",
       "    <tr>\n",
       "      <th>2025</th>\n",
       "      <td>4.099638e+10</td>\n",
       "      <td>10.777018</td>\n",
       "    </tr>\n",
       "    <tr>\n",
       "      <th>2030</th>\n",
       "      <td>4.423421e+10</td>\n",
       "      <td>11.537977</td>\n",
       "    </tr>\n",
       "    <tr>\n",
       "      <th>2035</th>\n",
       "      <td>4.759924e+10</td>\n",
       "      <td>12.328830</td>\n",
       "    </tr>\n",
       "    <tr>\n",
       "      <th>2040</th>\n",
       "      <td>5.109147e+10</td>\n",
       "      <td>13.149578</td>\n",
       "    </tr>\n",
       "    <tr>\n",
       "      <th>2045</th>\n",
       "      <td>5.471089e+10</td>\n",
       "      <td>14.000220</td>\n",
       "    </tr>\n",
       "    <tr>\n",
       "      <th>2050</th>\n",
       "      <td>5.845752e+10</td>\n",
       "      <td>14.880757</td>\n",
       "    </tr>\n",
       "  </tbody>\n",
       "</table>\n",
       "</div>"
      ],
      "text/plain": [
       "      co2 emissions (tonnes)  sea level (inches)\n",
       "Year                                            \n",
       "2025            4.099638e+10           10.777018\n",
       "2030            4.423421e+10           11.537977\n",
       "2035            4.759924e+10           12.328830\n",
       "2040            5.109147e+10           13.149578\n",
       "2045            5.471089e+10           14.000220\n",
       "2050            5.845752e+10           14.880757"
      ]
     },
     "execution_count": 80,
     "metadata": {},
     "output_type": "execute_result"
    }
   ],
   "source": [
    "result_estimates"
   ]
  },
  {
   "cell_type": "code",
   "execution_count": 81,
   "id": "1b8ab778",
   "metadata": {},
   "outputs": [],
   "source": [
    "result_estimates.to_csv(\"Estimates.csv\", index = True)"
   ]
  },
  {
   "cell_type": "code",
   "execution_count": null,
   "id": "70556ebe",
   "metadata": {},
   "outputs": [],
   "source": []
  }
 ],
 "metadata": {
  "kernelspec": {
   "display_name": "Python 3 (ipykernel)",
   "language": "python",
   "name": "python3"
  },
  "language_info": {
   "codemirror_mode": {
    "name": "ipython",
    "version": 3
   },
   "file_extension": ".py",
   "mimetype": "text/x-python",
   "name": "python",
   "nbconvert_exporter": "python",
   "pygments_lexer": "ipython3",
   "version": "3.9.7"
  }
 },
 "nbformat": 4,
 "nbformat_minor": 5
}
